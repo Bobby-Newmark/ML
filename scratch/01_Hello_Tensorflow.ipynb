{
  "nbformat": 4,
  "nbformat_minor": 0,
  "metadata": {
    "colab": {
      "name": "02.01_Hello_Tensorflow.ipynb",
      "version": "0.3.2",
      "provenance": [],
      "collapsed_sections": [],
      "include_colab_link": true
    },
    "kernelspec": {
      "name": "python3",
      "display_name": "Python 3"
    }
  },
  "cells": [
    {
      "cell_type": "markdown",
      "metadata": {
        "id": "view-in-github",
        "colab_type": "text"
      },
      "source": [
        "<a href=\"https://colab.research.google.com/github/Bobby-Newmark/ML/blob/master/scratch/01_Hello_Tensorflow.ipynb\" target=\"_parent\"><img src=\"https://colab.research.google.com/assets/colab-badge.svg\" alt=\"Open In Colab\"/></a>"
      ]
    },
    {
      "metadata": {
        "id": "lVGr_O2r2MF9",
        "colab_type": "text"
      },
      "cell_type": "markdown",
      "source": [
        "**Tensorflow: **Hello Tensorflow"
      ]
    },
    {
      "metadata": {
        "id": "lM3PoiPui9Lg",
        "colab_type": "code",
        "colab": {}
      },
      "cell_type": "code",
      "source": [
        "from __future__ import absolute_import\n",
        "from __future__ import division\n",
        "from __future__ import print_function"
      ],
      "execution_count": 0,
      "outputs": []
    },
    {
      "metadata": {
        "id": "Z5nV_mmPjBRc",
        "colab_type": "code",
        "colab": {}
      },
      "cell_type": "code",
      "source": [
        "import tensorflow as tf"
      ],
      "execution_count": 0,
      "outputs": []
    },
    {
      "metadata": {
        "id": "SmTQjhGa2ahD",
        "colab_type": "text"
      },
      "cell_type": "markdown",
      "source": [
        "Create Tensor"
      ]
    },
    {
      "metadata": {
        "id": "oZGf8yY2jNiY",
        "colab_type": "code",
        "colab": {}
      },
      "cell_type": "code",
      "source": [
        "msg = tf.string_join(['Hello ', 'TensorFlow!'])"
      ],
      "execution_count": 0,
      "outputs": []
    },
    {
      "metadata": {
        "id": "cAaLc5wU2g_Z",
        "colab_type": "text"
      },
      "cell_type": "markdown",
      "source": [
        "Launch session"
      ]
    },
    {
      "metadata": {
        "id": "CTmUV_S0kV01",
        "colab_type": "code",
        "outputId": "63c778d6-a285-4f75-e9d8-9a4404ab09de",
        "colab": {
          "base_uri": "https://localhost:8080/",
          "height": 34
        }
      },
      "cell_type": "code",
      "source": [
        "with tf.Session() as sess:\n",
        "    print(sess.run(msg))\n"
      ],
      "execution_count": 4,
      "outputs": [
        {
          "output_type": "stream",
          "text": [
            "b'Hello TensorFlow!'\n"
          ],
          "name": "stdout"
        }
      ]
    },
    {
      "metadata": {
        "id": "F2TW15a3HQAj",
        "colab_type": "code",
        "colab": {}
      },
      "cell_type": "code",
      "source": [
        ""
      ],
      "execution_count": 0,
      "outputs": []
    }
  ]
}