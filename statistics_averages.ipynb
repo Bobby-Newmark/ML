{
  "nbformat": 4,
  "nbformat_minor": 0,
  "metadata": {
    "colab": {
      "name": "statistics_averages.ipynb",
      "version": "0.3.2",
      "provenance": [],
      "include_colab_link": true
    },
    "language_info": {
      "codemirror_mode": {
        "name": "ipython",
        "version": 3
      },
      "file_extension": ".py",
      "mimetype": "text/x-python",
      "name": "python",
      "nbconvert_exporter": "python",
      "pygments_lexer": "ipython3",
      "version": "3.6.5"
    },
    "kernelspec": {
      "display_name": "Python 3",
      "language": "python",
      "name": "python3"
    }
  },
  "cells": [
    {
      "cell_type": "markdown",
      "metadata": {
        "id": "view-in-github",
        "colab_type": "text"
      },
      "source": [
        "<a href=\"https://colab.research.google.com/github/Bobby-Newmark/ML/blob/master/statistics_averages.ipynb\" target=\"_parent\"><img src=\"https://colab.research.google.com/assets/colab-badge.svg\" alt=\"Open In Colab\"/></a>"
      ]
    },
    {
      "metadata": {
        "id": "5ihc9J2G0mzL",
        "colab_type": "code",
        "colab": {}
      },
      "cell_type": "code",
      "source": [
        "import numpy as np\n",
        "from scipy import stats"
      ],
      "execution_count": 0,
      "outputs": []
    },
    {
      "metadata": {
        "id": "jgffcjcc0mzV",
        "colab_type": "code",
        "colab": {}
      },
      "cell_type": "code",
      "source": [
        "data = np.array([4,5,1,2,7,2,6,9,3])"
      ],
      "execution_count": 0,
      "outputs": []
    },
    {
      "metadata": {
        "id": "-Rug999S0mzf",
        "colab_type": "text"
      },
      "cell_type": "markdown",
      "source": [
        "### Calculate Mean"
      ]
    },
    {
      "metadata": {
        "id": "ihl9XTkG0mzg",
        "colab_type": "code",
        "colab": {},
        "outputId": "1c77a1d7-b895-4491-e22c-269d05ae105c"
      },
      "cell_type": "code",
      "source": [
        "dt_mean = np.mean(data);\n",
        "print ('Mean :', round(dt_mean,2))"
      ],
      "execution_count": 0,
      "outputs": [
        {
          "output_type": "stream",
          "text": [
            "Mean : 4.33\n"
          ],
          "name": "stdout"
        }
      ]
    },
    {
      "metadata": {
        "id": "eoRY7EQV0mzo",
        "colab_type": "text"
      },
      "cell_type": "markdown",
      "source": [
        "### Calculate Median"
      ]
    },
    {
      "metadata": {
        "id": "JAqpBBqi0mzq",
        "colab_type": "code",
        "colab": {},
        "outputId": "d540041a-f397-4e07-a6c0-5ca5058f9218"
      },
      "cell_type": "code",
      "source": [
        "dt_median = np.median(data);\n",
        "print ('Median :', round(dt_median))"
      ],
      "execution_count": 0,
      "outputs": [
        {
          "output_type": "stream",
          "text": [
            "Median : 4.0\n"
          ],
          "name": "stdout"
        }
      ]
    },
    {
      "metadata": {
        "id": "i9a9U_WQ0mzv",
        "colab_type": "text"
      },
      "cell_type": "markdown",
      "source": [
        "### Calculate Mode"
      ]
    },
    {
      "metadata": {
        "id": "j8xW1pCT0mzw",
        "colab_type": "code",
        "colab": {},
        "outputId": "26195d37-791f-4b88-9fb9-82ad50c7ae35"
      },
      "cell_type": "code",
      "source": [
        "dt_mode = stats.mode(data);\n",
        "print ('Mode :', round(dt_mode[0][0]))"
      ],
      "execution_count": 0,
      "outputs": [
        {
          "output_type": "stream",
          "text": [
            "Mode : 2\n"
          ],
          "name": "stdout"
        }
      ]
    }
  ]
}